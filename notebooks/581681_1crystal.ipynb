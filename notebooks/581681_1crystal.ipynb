{
 "cells": [
  {
   "cell_type": "markdown",
   "metadata": {},
   "source": [
    "# *Image processing of corroded pit - part 2: analysis of crystal sediments*\n",
    "\n",
    "- By [Gianluca Iori](https://github.com/gianthk), Giulia Franceschin, Roberta Zanin, Elena Longo, 2022\n",
    "- Code licence: MIT\n",
    "- Narrative licence: CC-BY \n",
    "- How to cite: *Specify how you want people to cite this notebook. You can refer to a publication or a repository (e.g. link your GitHub repository to Zenodo - see [this video](https://www.youtube.com/watch?v=gp3D4mf6MHQ))*\n",
    "- Created on:  22.04.2022\n",
    "- Last update: 22.02.2023"
   ]
  },
  {
   "cell_type": "markdown",
   "metadata": {},
   "source": [
    "---\n",
    "# Aims\n",
    "Generate triangle mesh of one crystal deposit"
   ]
  },
  {
   "cell_type": "markdown",
   "metadata": {
    "tags": []
   },
   "source": [
    "---\n",
    "# *Computational workflow*"
   ]
  },
  {
   "cell_type": "markdown",
   "metadata": {},
   "source": [
    "## Configuration and imports"
   ]
  },
  {
   "cell_type": "code",
   "execution_count": 1,
   "metadata": {},
   "outputs": [],
   "source": [
    "import sys\n",
    "sys.path.append('./../../recon_utils')\n",
    "sys.path.append('./../../../recon_utils')\n",
    "# sys.path.append('/home/gianthk/PycharmProjects/CT2FE')"
   ]
  },
  {
   "cell_type": "markdown",
   "metadata": {},
   "source": [
    "Configure working folder (change this to your local path)"
   ]
  },
  {
   "cell_type": "code",
   "execution_count": 7,
   "metadata": {},
   "outputs": [],
   "source": [
    "# work_folder = \"/run/media/beats/My Passport/20217193_Traviglia/recons/581681_punta_HR_stitch2_merge_corr_phrt\"\n",
    "# work_folder = '/media/gianthk/My Passport/20217193_Traviglia/recons/581681_punta_HR_stitch2_merge_corr_phrt'\n",
    "work_folder = '/home/gianthk/Data/BEATS/Franceschin/20217193_Traviglia/recons/581681_punta_HR_stitch2_merge_corr_phrt'"
   ]
  },
  {
   "cell_type": "code",
   "execution_count": 4,
   "metadata": {},
   "outputs": [],
   "source": [
    "import numpy as np\n",
    "import meshio\n",
    "import mcubes\n",
    "from recon_utils import read_tiff_stack, plot_midplanes\n",
    "\n",
    "import spam.mesh\n",
    "import spam.label\n",
    "import spam.plotting\n",
    "import spam.datasets"
   ]
  },
  {
   "cell_type": "markdown",
   "metadata": {},
   "source": [
    "Matplotlib plotting configuration"
   ]
  },
  {
   "cell_type": "markdown",
   "metadata": {
    "tags": []
   },
   "source": [
    "## Load crystal mask"
   ]
  },
  {
   "cell_type": "code",
   "execution_count": 8,
   "metadata": {},
   "outputs": [],
   "source": [
    "input_file = work_folder+'/masks/crystal/slice_00.tif'"
   ]
  },
  {
   "cell_type": "code",
   "execution_count": 9,
   "metadata": {},
   "outputs": [],
   "source": [
    "crystal_BW = read_tiff_stack(input_file)"
   ]
  },
  {
   "cell_type": "markdown",
   "metadata": {},
   "source": [
    "Voxelsize:"
   ]
  },
  {
   "cell_type": "code",
   "execution_count": 10,
   "metadata": {},
   "outputs": [],
   "source": [
    "vs = np.ones(3)*1.0e-3 # [mm]"
   ]
  },
  {
   "cell_type": "code",
   "execution_count": 11,
   "metadata": {},
   "outputs": [
    {
     "data": {
      "image/png": "[encoded data removed]",
      "text/plain": [
       "<Figure size 432x288 with 3 Axes>"
      ]
     },
     "metadata": {
      "needs_background": "light"
     },
     "output_type": "display_data"
    }
   ],
   "source": [
    "# Inspect slice\n",
    "plot_midplanes(crystal_BW)"
   ]
  },
  {
   "cell_type": "markdown",
   "metadata": {},
   "source": [
    "## Compute outer mesh of triangles"
   ]
  },
  {
   "cell_type": "code",
   "execution_count": 12,
   "metadata": {},
   "outputs": [],
   "source": [
    "vertices, triangles = mcubes.marching_cubes(np.transpose(mcubes.smooth(crystal_BW>=1), [2, 1, 0]), 0.5)"
   ]
  },
  {
   "cell_type": "markdown",
   "metadata": {
    "tags": []
   },
   "source": [
    "## Save the mesh\n",
    "write VTK mesh with meshio"
   ]
  },
  {
   "cell_type": "code",
   "execution_count": 18,
   "metadata": {},
   "outputs": [],
   "source": [
    "filename_mesh_out = work_folder+'/masks/crystal.vtk'\n",
    "meshio.write_points_cells(filename_mesh_out, vertices.tolist(), [(\"triangle\", triangles.tolist())])"
   ]
  },
  {
   "cell_type": "markdown",
   "metadata": {
    "tags": []
   },
   "source": [
    "![1crystal](crystal.png)"
   ]
  },
  {
   "cell_type": "markdown",
   "metadata": {},
   "source": [
    "### Compute particle bounding box"
   ]
  },
  {
   "cell_type": "code",
   "execution_count": 13,
   "metadata": {},
   "outputs": [],
   "source": [
    "boundingBoxes = spam.label.boundingBoxes(crystal_BW>=1)"
   ]
  },
  {
   "cell_type": "markdown",
   "metadata": {
    "tags": []
   },
   "source": [
    "### Compute particles centres of mass"
   ]
  },
  {
   "cell_type": "code",
   "execution_count": 14,
   "metadata": {},
   "outputs": [],
   "source": [
    "centresOfMass = spam.label.centresOfMass(crystal_BW>=1, boundingBoxes=boundingBoxes) # Z,Y,X"
   ]
  },
  {
   "cell_type": "markdown",
   "metadata": {
    "tags": []
   },
   "source": [
    "### Particle orientation\n",
    "We use the `Moments of Inertia` method of the `spam.label` toolkit."
   ]
  },
  {
   "cell_type": "code",
   "execution_count": 15,
   "metadata": {},
   "outputs": [],
   "source": [
    "MOIeigenValues, MOIeigenVectors = spam.label.momentOfInertia(crystal_BW>=1, boundingBoxes=boundingBoxes, centresOfMass=centresOfMass)"
   ]
  },
  {
   "cell_type": "markdown",
   "metadata": {},
   "source": [
    "### Radii of the ellipsoid fitting the particle\n",
    "We use the `ellipseAxes` method of `spam.label`."
   ]
  },
  {
   "cell_type": "code",
   "execution_count": 16,
   "metadata": {},
   "outputs": [],
   "source": [
    "ellipseDimensions = spam.label.ellipseAxes(crystal_BW>=1, volumes=spam.label.volumes(crystal_BW>=1), MOIeigenValues=MOIeigenValues)"
   ]
  },
  {
   "cell_type": "markdown",
   "metadata": {
    "tags": []
   },
   "source": [
    "### Save vector filed data of particle orientation\n",
    "We use `meshio` to save an `unstructured grid` `VTK` file containing the coordinates of each particle's center of mass and its orientation vector."
   ]
  },
  {
   "cell_type": "markdown",
   "metadata": {},
   "source": [
    "The coordinates [x,y,z] of the particle's center of mass are stored in the array: `centresOfMass[1:, [2, 1, 0]]`.\n",
    "The particle's orientation vector [x,y,z] is in `MOIeigenVectors[1:, [8, 7, 6]]`."
   ]
  },
  {
   "cell_type": "code",
   "execution_count": 27,
   "metadata": {},
   "outputs": [],
   "source": [
    "filename_mesh_out = work_folder+'/masks/crystal_MOIeigenVectors.vtk'\n",
    "meshio.write_points_cells(filename_mesh_out,\n",
    "                          centresOfMass[1:, [2, 1, 0]], [],\n",
    "                          point_data={\"MOIeigenVector1\": MOIeigenVectors[1:, [2, 1, 0]],\n",
    "                                      \"MOIeigenVector2\": MOIeigenVectors[1:, [5, 4, 3]],\n",
    "                                      \"MOIeigenVector3\": MOIeigenVectors[1:, [8, 7, 6]]})"
   ]
  },
  {
   "cell_type": "markdown",
   "metadata": {
    "tags": []
   },
   "source": [
    "---\n",
    "# Acknowledgements\n",
    "-  The authors acknowledge the [CERIC-ERIC](https://www.ceric-eric.eu/) Consortium for the access to experimental facilities and financial support"
   ]
  }
 ],
 "metadata": {
  "kernelspec": {
   "display_name": "conda (spam)",
   "language": "python",
   "name": "spam"
  },
  "language_info": {
   "codemirror_mode": {
    "name": "ipython",
    "version": 3
   },
   "file_extension": ".py",
   "mimetype": "text/x-python",
   "name": "python",
   "nbconvert_exporter": "python",
   "pygments_lexer": "ipython3",
   "version": "3.8.13"
  },
  "toc-autonumbering": true,
  "toc-showcode": false,
  "toc-showmarkdowntxt": false
 },
 "nbformat": 4,
 "nbformat_minor": 4
}
